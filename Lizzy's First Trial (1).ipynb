{
 "cells": [
  {
   "cell_type": "code",
   "execution_count": 1,
   "id": "56376c45",
   "metadata": {},
   "outputs": [
    {
     "name": "stdout",
     "output_type": "stream",
     "text": [
      "3.10.4 (tags/v3.10.4:9d38120, Mar 23 2022, 23:13:41) [MSC v.1929 64 bit (AMD64)]\n"
     ]
    }
   ],
   "source": [
    "import sys\n",
    "print(sys.version)"
   ]
  },
  {
   "cell_type": "code",
   "execution_count": 2,
   "id": "77d8be19",
   "metadata": {},
   "outputs": [
    {
     "name": "stdout",
     "output_type": "stream",
     "text": [
      "hello python\n"
     ]
    }
   ],
   "source": [
    "print(\"hello python\")"
   ]
  },
  {
   "cell_type": "code",
   "execution_count": 3,
   "id": "eb55bba9",
   "metadata": {},
   "outputs": [
    {
     "data": {
      "text/plain": [
       "2.0"
      ]
     },
     "execution_count": 3,
     "metadata": {},
     "output_type": "execute_result"
    }
   ],
   "source": [
    "float(2)"
   ]
  },
  {
   "cell_type": "code",
   "execution_count": 4,
   "id": "0959cf58",
   "metadata": {},
   "outputs": [
    {
     "data": {
      "text/plain": [
       "1"
      ]
     },
     "execution_count": 4,
     "metadata": {},
     "output_type": "execute_result"
    }
   ],
   "source": [
    "int(1.1)"
   ]
  },
  {
   "cell_type": "code",
   "execution_count": 5,
   "id": "0c5d38ed",
   "metadata": {},
   "outputs": [
    {
     "data": {
      "text/plain": [
       "10"
      ]
     },
     "execution_count": 5,
     "metadata": {},
     "output_type": "execute_result"
    }
   ],
   "source": [
    "int(\"10\")"
   ]
  },
  {
   "cell_type": "code",
   "execution_count": 6,
   "id": "442a7368",
   "metadata": {},
   "outputs": [
    {
     "data": {
      "text/plain": [
       "'1'"
      ]
     },
     "execution_count": 6,
     "metadata": {},
     "output_type": "execute_result"
    }
   ],
   "source": [
    "str(1)"
   ]
  },
  {
   "cell_type": "code",
   "execution_count": 7,
   "id": "c699635b",
   "metadata": {},
   "outputs": [
    {
     "data": {
      "text/plain": [
       "'4.5'"
      ]
     },
     "execution_count": 7,
     "metadata": {},
     "output_type": "execute_result"
    }
   ],
   "source": [
    "str(4.5)"
   ]
  },
  {
   "cell_type": "code",
   "execution_count": 8,
   "id": "1497b025",
   "metadata": {},
   "outputs": [
    {
     "data": {
      "text/plain": [
       "1"
      ]
     },
     "execution_count": 8,
     "metadata": {},
     "output_type": "execute_result"
    }
   ],
   "source": [
    "int(True)"
   ]
  },
  {
   "cell_type": "code",
   "execution_count": 9,
   "id": "2d8fcfbb",
   "metadata": {},
   "outputs": [
    {
     "data": {
      "text/plain": [
       "0"
      ]
     },
     "execution_count": 9,
     "metadata": {},
     "output_type": "execute_result"
    }
   ],
   "source": [
    "int(False)"
   ]
  },
  {
   "cell_type": "code",
   "execution_count": 10,
   "id": "ab98c207",
   "metadata": {},
   "outputs": [
    {
     "data": {
      "text/plain": [
       "True"
      ]
     },
     "execution_count": 10,
     "metadata": {},
     "output_type": "execute_result"
    }
   ],
   "source": [
    "bool(1)"
   ]
  },
  {
   "cell_type": "code",
   "execution_count": 11,
   "id": "061de14d",
   "metadata": {},
   "outputs": [
    {
     "data": {
      "text/plain": [
       "False"
      ]
     },
     "execution_count": 11,
     "metadata": {},
     "output_type": "execute_result"
    }
   ],
   "source": [
    "bool(0)"
   ]
  },
  {
   "cell_type": "code",
   "execution_count": 12,
   "id": "91bbdff4",
   "metadata": {},
   "outputs": [
    {
     "data": {
      "text/plain": [
       "4.166666666666667"
      ]
     },
     "execution_count": 12,
     "metadata": {},
     "output_type": "execute_result"
    }
   ],
   "source": [
    "25/6"
   ]
  },
  {
   "cell_type": "code",
   "execution_count": 13,
   "id": "ccc2faad",
   "metadata": {},
   "outputs": [
    {
     "data": {
      "text/plain": [
       "4"
      ]
     },
     "execution_count": 13,
     "metadata": {},
     "output_type": "execute_result"
    }
   ],
   "source": [
    "25//6"
   ]
  },
  {
   "cell_type": "code",
   "execution_count": 14,
   "id": "5a69a0e1",
   "metadata": {},
   "outputs": [
    {
     "data": {
      "text/plain": [
       "160"
      ]
     },
     "execution_count": 14,
     "metadata": {},
     "output_type": "execute_result"
    }
   ],
   "source": [
    "43+60+16+41"
   ]
  },
  {
   "cell_type": "code",
   "execution_count": 15,
   "id": "b03e7880",
   "metadata": {},
   "outputs": [
    {
     "data": {
      "text/plain": [
       "150"
      ]
     },
     "execution_count": 15,
     "metadata": {},
     "output_type": "execute_result"
    }
   ],
   "source": [
    "2*60+30"
   ]
  },
  {
   "cell_type": "code",
   "execution_count": 16,
   "id": "092fe6a4",
   "metadata": {},
   "outputs": [
    {
     "data": {
      "text/plain": [
       "150"
      ]
     },
     "execution_count": 16,
     "metadata": {},
     "output_type": "execute_result"
    }
   ],
   "source": [
    "30+2*60"
   ]
  },
  {
   "cell_type": "code",
   "execution_count": 19,
   "id": "36e5bac5",
   "metadata": {},
   "outputs": [
    {
     "name": "stdout",
     "output_type": "stream",
     "text": [
      "2.6666666666666665\n"
     ]
    }
   ],
   "source": [
    "x=160\n",
    "y=x/60\n",
    "print(y)"
   ]
  },
  {
   "cell_type": "code",
   "execution_count": 20,
   "id": "c1ed30d4",
   "metadata": {},
   "outputs": [
    {
     "data": {
      "text/plain": [
       "int"
      ]
     },
     "execution_count": 20,
     "metadata": {},
     "output_type": "execute_result"
    }
   ],
   "source": [
    "type(x)"
   ]
  },
  {
   "cell_type": "code",
   "execution_count": 21,
   "id": "e87eb330",
   "metadata": {},
   "outputs": [
    {
     "name": "stdout",
     "output_type": "stream",
     "text": [
      "practice makes perfect\n"
     ]
    }
   ],
   "source": [
    "# practice on writing comments\n",
    "print(\"practice makes perfect\")"
   ]
  },
  {
   "cell_type": "code",
   "execution_count": 22,
   "id": "2fcf8944",
   "metadata": {},
   "outputs": [
    {
     "data": {
      "text/plain": [
       "float"
      ]
     },
     "execution_count": 22,
     "metadata": {},
     "output_type": "execute_result"
    }
   ],
   "source": [
    "type(float(2))"
   ]
  },
  {
   "cell_type": "code",
   "execution_count": 26,
   "id": "d4a12492",
   "metadata": {},
   "outputs": [],
   "source": [
    "name=(\"michael jackson\")\n",
    "statement= name + \"is the best\""
   ]
  },
  {
   "cell_type": "markdown",
   "id": "713e60f5",
   "metadata": {},
   "source": [
    "3 * \"michael jackson\""
   ]
  },
  {
   "cell_type": "code",
   "execution_count": 27,
   "id": "3e664089",
   "metadata": {},
   "outputs": [
    {
     "name": "stdout",
     "output_type": "stream",
     "text": [
      "michael jackson \\ is the best\n"
     ]
    }
   ],
   "source": [
    "print(\"michael jackson \\\\ is the best\")"
   ]
  },
  {
   "cell_type": "code",
   "execution_count": 28,
   "id": "d409a1de",
   "metadata": {},
   "outputs": [
    {
     "name": "stdout",
     "output_type": "stream",
     "text": [
      "michael jackson \n",
      " is the best\n"
     ]
    }
   ],
   "source": [
    "print(\"michael jackson \\n is the best\")"
   ]
  },
  {
   "cell_type": "code",
   "execution_count": 29,
   "id": "cfb77fc8",
   "metadata": {},
   "outputs": [
    {
     "name": "stdout",
     "output_type": "stream",
     "text": [
      "michael jackson \t is the best\n"
     ]
    }
   ],
   "source": [
    "print(\"michael jackson \\t is the best\")"
   ]
  },
  {
   "cell_type": "code",
   "execution_count": 31,
   "id": "80042519",
   "metadata": {},
   "outputs": [],
   "source": [
    "name = \"michael jackson\"\n",
    "statement = name+\"is the best\""
   ]
  },
  {
   "cell_type": "code",
   "execution_count": 32,
   "id": "38c6ab3d",
   "metadata": {},
   "outputs": [
    {
     "data": {
      "text/plain": [
       "15"
      ]
     },
     "execution_count": 32,
     "metadata": {},
     "output_type": "execute_result"
    }
   ],
   "source": [
    "len(\"michael jackson\")"
   ]
  },
  {
   "cell_type": "code",
   "execution_count": 33,
   "id": "6450e570",
   "metadata": {},
   "outputs": [
    {
     "data": {
      "text/plain": [
       "'mich'"
      ]
     },
     "execution_count": 33,
     "metadata": {},
     "output_type": "execute_result"
    }
   ],
   "source": [
    "name=\"michael jackson\"\n",
    "name[0:4]"
   ]
  },
  {
   "cell_type": "code",
   "execution_count": 34,
   "id": "83b09ebc",
   "metadata": {},
   "outputs": [
    {
     "data": {
      "text/plain": [
       "'michael jacksonmichael jacksonmichael jackson'"
      ]
     },
     "execution_count": 34,
     "metadata": {},
     "output_type": "execute_result"
    }
   ],
   "source": [
    "3*\"michael jackson\""
   ]
  },
  {
   "cell_type": "code",
   "execution_count": 35,
   "id": "afa263d3",
   "metadata": {},
   "outputs": [
    {
     "data": {
      "text/plain": [
       "'michaeljacksonmichaeljacksonmichaeljackson'"
      ]
     },
     "execution_count": 35,
     "metadata": {},
     "output_type": "execute_result"
    }
   ],
   "source": [
    "3*\"michaeljackson\""
   ]
  },
  {
   "cell_type": "code",
   "execution_count": 36,
   "id": "72f03ee3",
   "metadata": {},
   "outputs": [
    {
     "data": {
      "text/plain": [
       "'THRILLER IS THE SIXTH STUDIO ALBUM'"
      ]
     },
     "execution_count": 36,
     "metadata": {},
     "output_type": "execute_result"
    }
   ],
   "source": [
    "a= \"thriller is the sixth studio album\"\n",
    "a.upper()"
   ]
  },
  {
   "cell_type": "code",
   "execution_count": 38,
   "id": "1bc1e40d",
   "metadata": {},
   "outputs": [
    {
     "data": {
      "text/plain": [
       "'janet is the sixth studio album'"
      ]
     },
     "execution_count": 38,
     "metadata": {},
     "output_type": "execute_result"
    }
   ],
   "source": [
    "a= \"thriller is the sixth studio album\"\n",
    "a.replace('thriller', 'janet')"
   ]
  },
  {
   "cell_type": "code",
   "execution_count": 39,
   "id": "93365171",
   "metadata": {},
   "outputs": [
    {
     "data": {
      "text/plain": [
       "5"
      ]
     },
     "execution_count": 39,
     "metadata": {},
     "output_type": "execute_result"
    }
   ],
   "source": [
    "name=\"michael jackson\"\n",
    "name.find('el')"
   ]
  },
  {
   "cell_type": "code",
   "execution_count": 40,
   "id": "a5492a46",
   "metadata": {},
   "outputs": [
    {
     "data": {
      "text/plain": [
       "8"
      ]
     },
     "execution_count": 40,
     "metadata": {},
     "output_type": "execute_result"
    }
   ],
   "source": [
    "name=\"michael jackson\"\n",
    "name.find('jack')"
   ]
  },
  {
   "cell_type": "code",
   "execution_count": 42,
   "id": "a1053d1d",
   "metadata": {},
   "outputs": [
    {
     "data": {
      "text/plain": [
       "'thriller is the sixth studio album'"
      ]
     },
     "execution_count": 42,
     "metadata": {},
     "output_type": "execute_result"
    }
   ],
   "source": [
    "a= \"thriller is the sixth studio album\"\n",
    "a.lower()"
   ]
  },
  {
   "cell_type": "code",
   "execution_count": 43,
   "id": "890a1841",
   "metadata": {},
   "outputs": [
    {
     "data": {
      "text/plain": [
       "'disco'"
      ]
     },
     "execution_count": 43,
     "metadata": {},
     "output_type": "execute_result"
    }
   ],
   "source": [
    "food= ('disco', 10, 12.1)\n",
    "food[0]"
   ]
  },
  {
   "cell_type": "code",
   "execution_count": 44,
   "id": "e9ba5462",
   "metadata": {},
   "outputs": [
    {
     "data": {
      "text/plain": [
       "12.1"
      ]
     },
     "execution_count": 44,
     "metadata": {},
     "output_type": "execute_result"
    }
   ],
   "source": [
    "food[2]"
   ]
  },
  {
   "cell_type": "code",
   "execution_count": 47,
   "id": "4f7a0fc4",
   "metadata": {},
   "outputs": [],
   "source": [
    "food= ('disco', 10, 12.1)\n",
    "foodie=food+('hard rock', 10)"
   ]
  },
  {
   "cell_type": "code",
   "execution_count": 49,
   "id": "0f1f3331",
   "metadata": {},
   "outputs": [
    {
     "name": "stdout",
     "output_type": "stream",
     "text": [
      "(1, 2, ('pop', 'rock'), (3, 4), ('disco', (1, 2)))\n"
     ]
    }
   ],
   "source": [
    "NT= (1,2,('pop','rock'), (3,4),('disco', (1,2)))\n",
    "print(NT)"
   ]
  },
  {
   "cell_type": "code",
   "execution_count": 50,
   "id": "9da00475",
   "metadata": {},
   "outputs": [
    {
     "data": {
      "text/plain": [
       "('pop', 'rock')"
      ]
     },
     "execution_count": 50,
     "metadata": {},
     "output_type": "execute_result"
    }
   ],
   "source": [
    "NT[2]"
   ]
  },
  {
   "cell_type": "code",
   "execution_count": 51,
   "id": "6839e825",
   "metadata": {},
   "outputs": [
    {
     "data": {
      "text/plain": [
       "(1, 2, ('pop', 'rock'), (3, 4))"
      ]
     },
     "execution_count": 51,
     "metadata": {},
     "output_type": "execute_result"
    }
   ],
   "source": [
    "NT[0:4]"
   ]
  },
  {
   "cell_type": "code",
   "execution_count": 56,
   "id": "1db5cb6b",
   "metadata": {},
   "outputs": [],
   "source": [
    "Ratings= [10,9,6,5,10,8,9,6,2]\n",
    "Rating_Sorted = sorted(Ratings)"
   ]
  },
  {
   "cell_type": "code",
   "execution_count": 60,
   "id": "6881b6ea",
   "metadata": {},
   "outputs": [],
   "source": [
    "NT= [1,2,('pop','rock'), (3,4),('disco', (1,2))]\n",
    "NT.extend(['she', 0])"
   ]
  },
  {
   "cell_type": "code",
   "execution_count": 59,
   "id": "6de3eccc",
   "metadata": {},
   "outputs": [
    {
     "data": {
      "text/plain": [
       "['A', 'B', 'C', 'D']"
      ]
     },
     "execution_count": 59,
     "metadata": {},
     "output_type": "execute_result"
    }
   ],
   "source": [
    "\"A,B,C,D\".split(',')"
   ]
  },
  {
   "cell_type": "code",
   "execution_count": 61,
   "id": "1d6529ef",
   "metadata": {},
   "outputs": [
    {
     "data": {
      "text/plain": [
       "['hard rock', 10, 1.2]"
      ]
     },
     "execution_count": 61,
     "metadata": {},
     "output_type": "execute_result"
    }
   ],
   "source": [
    "a=['hard rock', 10, 1.2]\n",
    "a[:]"
   ]
  },
  {
   "cell_type": "code",
   "execution_count": 64,
   "id": "eb7bf6ef",
   "metadata": {},
   "outputs": [
    {
     "ename": "TypeError",
     "evalue": "'builtin_function_or_method' object is not subscriptable",
     "output_type": "error",
     "traceback": [
      "\u001b[1;31m---------------------------------------------------------------------------\u001b[0m",
      "\u001b[1;31mTypeError\u001b[0m                                 Traceback (most recent call last)",
      "Input \u001b[1;32mIn [64]\u001b[0m, in \u001b[0;36m<cell line: 1>\u001b[1;34m()\u001b[0m\n\u001b[1;32m----> 1\u001b[0m \u001b[43ma\u001b[49m\u001b[38;5;241;43m.\u001b[39;49m\u001b[43mindex\u001b[49m\u001b[43m[\u001b[49m\u001b[38;5;124;43m'\u001b[39;49m\u001b[38;5;124;43mdisco\u001b[39;49m\u001b[38;5;124;43m'\u001b[39;49m\u001b[43m]\u001b[49m\n",
      "\u001b[1;31mTypeError\u001b[0m: 'builtin_function_or_method' object is not subscriptable"
     ]
    }
   ],
   "source": [
    "a.index['disco')"
   ]
  },
  {
   "cell_type": "code",
   "execution_count": null,
   "id": "cdb3640b",
   "metadata": {},
   "outputs": [],
   "source": []
  }
 ],
 "metadata": {
  "kernelspec": {
   "display_name": "Python 3 (ipykernel)",
   "language": "python",
   "name": "python3"
  },
  "language_info": {
   "codemirror_mode": {
    "name": "ipython",
    "version": 3
   },
   "file_extension": ".py",
   "mimetype": "text/x-python",
   "name": "python",
   "nbconvert_exporter": "python",
   "pygments_lexer": "ipython3",
   "version": "3.10.5"
  }
 },
 "nbformat": 4,
 "nbformat_minor": 5
}
